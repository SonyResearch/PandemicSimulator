{
 "cells": [
  {
   "cell_type": "markdown",
   "metadata": {},
   "source": [
    "Confidential, Copyright 2020, Sony Corporation of America, All rights reserved."
   ]
  },
  {
   "cell_type": "code",
   "execution_count": null,
   "metadata": {},
   "outputs": [],
   "source": [
    "#imports\n",
    "from tqdm import trange\n",
    "\n",
    "import pandemic_simulator as ps"
   ]
  },
  {
   "cell_type": "markdown",
   "metadata": {},
   "source": [
    "Here we execute the gym envrionment wrapped simulator using austin regulations,\n",
    "a small town config and default person routines.\n",
    "\n",
    "A tutorial that runs the OpenAI Gym environment wrapped simulator"
   ]
  },
  {
   "cell_type": "code",
   "execution_count": null,
   "metadata": {},
   "outputs": [],
   "source": [
    "# init globals\n",
    "ps.init_globals(seed=0)"
   ]
  },
  {
   "cell_type": "markdown",
   "metadata": {},
   "source": [
    "Simulator Configurations\n",
    "---\n",
    "|Config Name|No. of People|No. of Homes|Grocery Store Config|Office Config|School Config|Hospital Config|Retail Store Config|Hair Salon Config|Restaraunt Config|Bar Config|Person Routine Assignment|\n",
    "| ----------- | -----------| ----------- | -----------| ----------- | -----------| ----------- | -----------| -----------| -----------| -----------| -----------|\n",
    "|town_config|10000|3000|num=40, num_assignees=5, visitor_capacity=30|num=50, num_assignees=150, visitor_capacity=0|num=100, num_assignees=4, visitor_capacity=30|num=10, num_assignees=30, patient_capacity=10|num=40, num_assignees=5, visitor_capacity=30|num=40, num_assignees=3, visitor_capacity=5|num=20, num_assignees=6, visitor_capacity=30|num=20, num_assignees=5,visitor_capacity=30| DefaultPersonRoutineAssignment|\n",
    "|above_medium_town_config|4000|1200|num=16, num_assignees=5, visitor_capacity=30|num=20, num_assignees=150, visitor_capacity=0|num=40, num_assignees=4, visitor_capacity=30|num=4, num_assignees=30, patient_capacity=10|num=16, num_assignees=5, visitor_capacity=30|num=16, num_assignees=3, visitor_capacity=5|num=8, num_assignees=6, visitor_capacity=30|num=8, num_assignees=4,visitor_capacity=30| DefaultPersonRoutineAssignment|\n",
    "|medium_town_config|2000|600|num=8, num_assignees=5, visitor_capacity=30|num=10, num_assignees=150, visitor_capacity=0|num=20, num_assignees=4, visitor_capacity=30|num=2, num_assignees=30, patient_capacity=10|num=8, num_assignees=5, visitor_capacity=30|num=8, num_assignees=3, visitor_capacity=5|num=4, num_assignees=6, visitor_capacity=30|num=4, num_assignees=3,visitor_capacity=30| DefaultPersonRoutineAssignment|\n",
    "|small_town_config|1000|300|num=4, num_assignees=5, visitor_capacity=30|num=5, num_assignees=150, visitor_capacity=0|num=10, num_assignees=4, visitor_capacity=30|num=1, num_assignees=30, patient_capacity=10|num=4, num_assignees=5, visitor_capacity=30|num=4, num_assignees=3, visitor_capacity=5|num=2, num_assignees=6, visitor_capacity=30|num=2, num_assignees=5,visitor_capacity=30| DefaultPersonRoutineAssignment|\n",
    "|tiny_town_config|500|150|num=2, num_assignees=5, visitor_capacity=30|num=2, num_assignees=150, visitor_capacity=0|num=10, num_assignees=2, visitor_capacity=30|num=1, num_assignees=15, patient_capacity=5|num=2, num_assignees=5, visitor_capacity=30|num=2, num_assignees=3, visitor_capacity=5|num=1, num_assignees=6, visitor_capacity=30|num=1, num_assignees=3,visitor_capacity=30| DefaultPersonRoutineAssignment|\n",
    "|test_config|100|30|num=1, num_assignees=5, visitor_capacity=30|num=1, num_assignees=150, visitor_capacity=0|num=10, num_assignees=2, visitor_capacity=30|num=1, num_assignees=30, patient_capacity=2|None Present|None Present|num=1, num_assignees=3, visitor_capacity=10|num=1, num_assignees=3,visitor_capacity=10| DefaultPersonRoutineAssignment|\n",
    "---"
   ]
  },
  {
   "cell_type": "code",
   "execution_count": null,
   "metadata": {},
   "outputs": [],
   "source": [
    "# select a simulator config\n",
    "# To define your own config use below cell.\n",
    "sim_config = ps.sh.small_town_config"
   ]
  },
  {
   "cell_type": "code",
   "execution_count": null,
   "metadata": {},
   "outputs": [],
   "source": [
    "#Run this cell after filling in required values and uncommenting to use custom configuration.\n",
    "'''\n",
    "from pandemic_simulator.environment import *\n",
    "custom_sim_config=PandemicSimConfig(\n",
    "    num_persons=,\n",
    "    location_configs=[\n",
    "        LocationConfig(Home, num=),\n",
    "        #LocationConfig(GroceryStore, num=, num_assignees=, state_opts=dict(visitor_capacity=)),\n",
    "        #LocationConfig(Office, num=, num_assignees=, state_opts=dict(visitor_capacity=)),\n",
    "        #LocationConfig(School, num=, num_assignees=, state_opts=dict(visitor_capacity=)),\n",
    "        #LocationConfig(Hospital, num=, num_assignees=, state_opts=dict(patient_capacity=)),\n",
    "        #LocationConfig(RetailStore, num=, num_assignees=, state_opts=dict(visitor_capacity=)),\n",
    "        #LocationConfig(HairSalon, num=, num_assignees=, state_opts=dict(visitor_capacity=)),\n",
    "        #LocationConfig(Restaurant, num=, num_assignees=, state_opts=dict(visitor_capacity=)),\n",
    "        #LocationConfig(Bar, num=, num_assignees=, state_opts=dict(visitor_capacity=))\n",
    "    ],\n",
    "    person_routine_assignment=DefaultPersonRoutineAssignment())\n",
    "sim_config=custom_sim_config\n",
    "'''"
   ]
  },
  {
   "cell_type": "markdown",
   "metadata": {},
   "source": [
    "# Simulator Regulations\n",
    "\n",
    "Austin Regulations\n",
    "---\n",
    "|Stage Number|stay_home_if_sick|practice_good_hygeine|wear_facial_coverings|social_distancing|risk_to_avoid_gathering_size|Office Lock|School Lock|Hair Salon Lock|Retail Store Lock|Bar Lock|Restaurant Config|\n",
    "| ----------- | -----------| ----------- | -----------| ----------- | -----------| ----------- | -----------| -----------| -----------| -----------|-----------|\n",
    "|Stage 0|False|False|False|DEFAULT|low=-1 high=-1|False|False|False|False|False|False|\n",
    "|Stage 1|True|True|False|DEFAULT|low=50 high=25|False|False|False|False|False|False|\n",
    "|Stage 2|True|True|True|0.3|low=25 high=10|False|True|True|False|False|False|\n",
    "|Stage 3|True|True|True|0.5|low=0 high=0|False|True|True|False|True|True|\n",
    "|Stage 4|True|True|True|0.7|low=0 high=0|True|True|True|True|True|True|\n",
    "---\n",
    "\n",
    "Italian Regulations\n",
    "---\n",
    "|Stage Number|stay_home_if_sick|practice_good_hygeine|wear_facial_coverings|social_distancing|risk_to_avoid_gathering_size|Office Lock|School Lock|Hair Salon Lock|Retail Store Lock|Bar Lock|Restaurant Config|\n",
    "| ----------- | -----------| ----------- | -----------| ----------- | -----------| ----------- | -----------| -----------| -----------| -----------|-----------|\n",
    "|Stage 0|False|False|False|DEFAULT|low=-1 high=-1|False|False|False|False|False|False|\n",
    "|Stage 1|True|True|False|0.2|Not Provided|False|False|False|False|False|False|\n",
    "|Stage 2|True|True|True|0.25|Not Provided|False|True|False|False|False|False|\n",
    "|Stage 3|True|True|True|0.6|low=0 high=0|False|True|True|True|True|True|\n",
    "|Stage 4|True|True|True|0.8|low=0 high=0|True|True|True|True|True|True|\n",
    "---\n",
    "\n",
    "Swedish Regulations\n",
    "---\n",
    "|Stage Number|stay_home_if_sick|practice_good_hygeine|wear_facial_coverings|social_distancing|risk_to_avoid_gathering_size|Office Lock|School Lock|Hair Salon Lock|Retail Store Lock|Bar Lock|Restaurant Config|\n",
    "| ----------- | -----------| ----------- | -----------| ----------- | -----------| ----------- | -----------| -----------| -----------| -----------|-----------|\n",
    "|Stage 0|False|False|False|DEFAULT|low=-1 high=-1|False|False|False|False|False|False|\n",
    "|Stage 1|True|True|Not Provided|0.139|low=50 high=50|Not Provided|Not Provided|Not Provided|Not Provided|Not Provided|Not Provided|\n",
    "---"
   ]
  },
  {
   "cell_type": "code",
   "execution_count": null,
   "metadata": {},
   "outputs": [],
   "source": [
    "# select a simulator regulations\n",
    "#To define your own regulations use below cell.\n",
    "pandemic_regulations=ps.sh.austin_regulations"
   ]
  },
  {
   "cell_type": "code",
   "execution_count": null,
   "metadata": {},
   "outputs": [],
   "source": [
    "#Run this cell after filling in required values and uncommenting to use custom regulation.\n",
    "'''\n",
    "custom_pandemic_regulations=[\n",
    "    PandemicRegulation(stay_home_if_sick=False,\n",
    "                       practice_good_hygiene=False,\n",
    "                       wear_facial_coverings=False,\n",
    "                       social_distancing=DEFAULT,\n",
    "                       risk_to_avoid_gathering_size={Risk.LOW: -1, Risk.HIGH: -1},\n",
    "                       location_type_to_rule_kwargs={\n",
    "                           Office: {'lock': False},\n",
    "                           School: {'lock': False},\n",
    "                           HairSalon: {'lock': False},\n",
    "                           RetailStore: {'lock': False},\n",
    "                           Bar: {'lock': False},\n",
    "                           Restaurant: {'lock': False},\n",
    "                       },\n",
    "                       stage=0),\n",
    "    PandemicRegulation(stay_home_if_sick=True,\n",
    "                       practice_good_hygiene=True,\n",
    "                       wear_facial_coverings=False,\n",
    "                       social_distancing=DEFAULT,\n",
    "                       risk_to_avoid_gathering_size={Risk.HIGH: 25, Risk.LOW: 50},\n",
    "                       location_type_to_rule_kwargs={\n",
    "                           Office: {'lock': False},\n",
    "                           School: {'lock': False},\n",
    "                           HairSalon: {'lock': False},\n",
    "                           RetailStore: {'lock': False},\n",
    "                           Restaurant: {'lock': False},\n",
    "                           Bar: {'lock': False},\n",
    "                       },\n",
    "                       stage=1),\n",
    "    PandemicRegulation(stay_home_if_sick=True,\n",
    "                       practice_good_hygiene=True,\n",
    "                       wear_facial_coverings=True,\n",
    "                       social_distancing=0.3,\n",
    "                       risk_to_avoid_gathering_size={Risk.HIGH: 10, Risk.LOW: 25},\n",
    "                       location_type_to_rule_kwargs={\n",
    "                           Office: {'lock': False},\n",
    "                           School: {'lock': True},\n",
    "                           HairSalon: {'lock': True},\n",
    "                           RetailStore: {'lock': False},\n",
    "                           Restaurant: {'lock': False},\n",
    "                           Bar: {'lock': False},\n",
    "                       },\n",
    "                       stage=2),\n",
    "    PandemicRegulation(stay_home_if_sick=True,\n",
    "                       practice_good_hygiene=True,\n",
    "                       wear_facial_coverings=True,\n",
    "                       social_distancing=0.5,\n",
    "                       risk_to_avoid_gathering_size={Risk.HIGH: 0, Risk.LOW: 0},\n",
    "                       location_type_to_rule_kwargs={\n",
    "                           Office: {'lock': False},\n",
    "                           School: {'lock': True},\n",
    "                           HairSalon: {'lock': True},\n",
    "                           RetailStore: {'lock': False},\n",
    "                           Restaurant: {'lock': True},\n",
    "                           Bar: {'lock': True},\n",
    "                       },\n",
    "                       stage=3),\n",
    "    PandemicRegulation(stay_home_if_sick=True,\n",
    "                       practice_good_hygiene=True,\n",
    "                       wear_facial_coverings=True,\n",
    "                       social_distancing=0.7,\n",
    "                       risk_to_avoid_gathering_size={Risk.HIGH: 0, Risk.LOW: 0},\n",
    "                       location_type_to_rule_kwargs={\n",
    "                           Office: {'lock': True},\n",
    "                           School: {'lock': True},\n",
    "                           HairSalon: {'lock': True},\n",
    "                           RetailStore: {'lock': True},\n",
    "                           Restaurant: {'lock': True},\n",
    "                           Bar: {'lock': True},\n",
    "                       },\n",
    "                       stage=4)\n",
    "]\n",
    "pandemic_regulations=custom_pandemic_regulations\n",
    "'''"
   ]
  },
  {
   "cell_type": "code",
   "execution_count": null,
   "metadata": {},
   "outputs": [],
   "source": [
    "# make env\n",
    "env = ps.env.PandemicGymEnv.from_config(sim_config, pandemic_regulations)\n",
    "\n",
    "# setup viz\n",
    "viz = ps.viz.GymViz.from_config(sim_config=sim_config)"
   ]
  },
  {
   "cell_type": "code",
   "execution_count": null,
   "metadata": {},
   "outputs": [],
   "source": [
    "max_time=100\n",
    "# run stage-0 action steps in the environment\n",
    "env.reset()\n",
    "for _ in trange(max_time, desc='Simulating day'):\n",
    "    obs, reward, done, aux = env.step(action=0)  # here the action is the discrete regulation stage identifier\n",
    "    viz.record((obs, reward))\n",
    "\n",
    "# generate plots\n",
    "viz.plot()"
   ]
  },
  {
   "cell_type": "code",
   "execution_count": null,
   "metadata": {},
   "outputs": [],
   "source": []
  }
 ],
 "metadata": {
  "interpreter": {
   "hash": "355d703a94b9bbaa9872b18b8d641a56025d8ab6b9dbfb5d5499c4bca0cc25d7"
  },
  "kernelspec": {
   "display_name": "Python 3.9.7 64-bit ('covidsim': conda)",
   "language": "python",
   "name": "python3"
  },
  "language_info": {
   "codemirror_mode": {
    "name": "ipython",
    "version": 3
   },
   "file_extension": ".py",
   "mimetype": "text/x-python",
   "name": "python",
   "nbconvert_exporter": "python",
   "pygments_lexer": "ipython3",
   "version": "3.9.7"
  },
  "orig_nbformat": 4
 },
 "nbformat": 4,
 "nbformat_minor": 2
}
