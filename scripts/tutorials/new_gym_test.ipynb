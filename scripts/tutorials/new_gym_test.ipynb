{
 "cells": [
  {
   "cell_type": "markdown",
   "metadata": {},
   "source": [
    "Confidential, Copyright 2020, Sony Corporation of America, All rights reserved."
   ]
  },
  {
   "cell_type": "code",
   "execution_count": null,
   "metadata": {},
   "outputs": [],
   "source": [
    "#imports\n",
    "from tqdm import trange\n",
    "\n",
    "import pandemic_simulator as ps"
   ]
  },
  {
   "cell_type": "markdown",
   "metadata": {},
   "source": [
    "Here we execute the gym envrionment wrapped simulator using austin regulations,\n",
    "a small town config and default person routines.\n",
    "\n",
    "A tutorial that runs the OpenAI Gym environment wrapped simulator"
   ]
  },
  {
   "cell_type": "markdown",
   "metadata": {},
   "source": [
    "Simulator Configurations\n",
    "---\n",
    "|Config Name|No. of People|No. of Homes|Grocery Store Config|Office Config|School Config|Hospital Config|Retail Store Config|Hair Salon Config|Restaraunt Config|Bar Config|Person Routine Assignment|\n",
    "| ----------- | -----------| ----------- | -----------| ----------- | -----------| ----------- | -----------| -----------| -----------| -----------|\n",
    "|town_config|10000|num=40, num_assignees=5, visitor_capacity=30|num=50, num_assignees=150, visitor_capacity=0|num=100, num_assignees=4, state_opts=dict(visitor_capacity=30)|num=10, num_assignees=30, state_opts=dict(patient_capacity=10)|num=40, num_assignees=5, state_opts=dict(visitor_capacity=30)|num=40, num_assignees=3, state_opts=dict(visitor_capacity=5)|num=20, num_assignees=6, state_opts=dict(visitor_capacity=30)|num=20, num_assignees=5, state_opts=dict(visitor_capacity=30)|DefaultPersonRoutineAssignment|\n",
    "---"
   ]
  },
  {
   "cell_type": "code",
   "execution_count": null,
   "metadata": {},
   "outputs": [],
   "source": [
    "# init globals\n",
    "ps.init_globals(seed=0)\n",
    "\n",
    "# select a simulator config\n",
    "'''\n",
    "town_config\n",
    "small_town_config\n",
    "test_config-\n",
    "tiny_town_config-\n",
    "medium_town_config-\n",
    "above_medium_town_config-\n",
    "\n",
    "define your own config refer python/pandemic_simulator/environment/script_helpers/sim_configs.py\n",
    "'''\n",
    "sim_config = ps.sh.small_town_config\n",
    "\n",
    "# make env\n",
    "env = ps.env.PandemicGymEnv.from_config(sim_config, pandemic_regulations=ps.sh.austin_regulations)\n",
    "\n",
    "# setup viz\n",
    "viz = ps.viz.GymViz.from_config(sim_config=sim_config)\n",
    "\n",
    "# run stage-0 action steps in the environment\n",
    "env.reset()\n",
    "for _ in trange(100, desc='Simulating day'):\n",
    "    obs, reward, done, aux = env.step(action=0)  # here the action is the discrete regulation stage identifier\n",
    "    viz.record((obs, reward))\n",
    "\n",
    "# generate plots\n",
    "viz.plot()"
   ]
  }
 ],
 "metadata": {
  "language_info": {
   "name": "python"
  },
  "orig_nbformat": 4
 },
 "nbformat": 4,
 "nbformat_minor": 2
}
